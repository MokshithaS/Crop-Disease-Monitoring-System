{
  "cells": [
    {
      "cell_type": "markdown",
      "metadata": {
        "id": "view-in-github",
        "colab_type": "text"
      },
      "source": [
        "<a href=\"https://colab.research.google.com/github/MokshithaS/Crop-Disease-Monitoring-System/blob/main/Working_system.ipynb\" target=\"_parent\"><img src=\"https://colab.research.google.com/assets/colab-badge.svg\" alt=\"Open In Colab\"/></a>"
      ]
    },
    {
      "cell_type": "code",
      "execution_count": null,
      "metadata": {
        "colab": {
          "base_uri": "https://localhost:8080/"
        },
        "id": "dUlgjaxHYUnU",
        "outputId": "78caa861-3af5-4e1e-c403-dc1614cd429e"
      },
      "outputs": [
        {
          "name": "stdout",
          "output_type": "stream",
          "text": [
            "Files and directories in /content:\n",
            "['.config', 'paddy_disease_model.h5', 'model.weights.h5', 'sample_data']\n"
          ]
        }
      ],
      "source": [
        "import os\n",
        "\n",
        "# List all files and directories in the current working directory\n",
        "print(\"Files and directories in /content:\")\n",
        "print(os.listdir(\"/content\"))\n"
      ]
    },
    {
      "cell_type": "code",
      "execution_count": null,
      "metadata": {
        "colab": {
          "base_uri": "https://localhost:8080/"
        },
        "id": "7rpS4IJFZeqt",
        "outputId": "a0ff74be-ec59-4b14-9f1f-a573dd92bb34"
      },
      "outputs": [
        {
          "name": "stdout",
          "output_type": "stream",
          "text": [
            "Files in dataset folder:\n",
            "['.config', 'paddy_disease_model.h5', 'model.weights.h5', 'sample_data']\n"
          ]
        }
      ],
      "source": [
        "import os\n",
        "\n",
        "dataset_path = \"/content\"  # Update this if your dataset is in a different directory\n",
        "print(\"Files in dataset folder:\")\n",
        "print(os.listdir(dataset_path))\n"
      ]
    },
    {
      "cell_type": "code",
      "execution_count": null,
      "metadata": {
        "colab": {
          "base_uri": "https://localhost:8080/"
        },
        "id": "vXZFW2iVZmkl",
        "outputId": "3a3aa363-8441-4ebf-f094-5fc905165de9"
      },
      "outputs": [
        {
          "name": "stdout",
          "output_type": "stream",
          "text": [
            "['.config', 'paddy_disease_model.h5', 'model.weights.h5', 'sample_data']\n"
          ]
        }
      ],
      "source": [
        "import os\n",
        "\n",
        "# List files in the content directory\n",
        "print(os.listdir(\"/content\"))\n"
      ]
    },
    {
      "cell_type": "code",
      "execution_count": null,
      "metadata": {
        "colab": {
          "base_uri": "https://localhost:8080/"
        },
        "id": "FyOxepT_aPzY",
        "outputId": "df5bea0d-1fc9-4cf4-9fe8-79c0bf985af5"
      },
      "outputs": [
        {
          "name": "stdout",
          "output_type": "stream",
          "text": [
            "Keys inside the H5 file: ['model_weights', 'optimizer_weights']\n"
          ]
        }
      ],
      "source": [
        "import h5py\n",
        "\n",
        "h5_path = \"/content/paddy_disease_model.h5\"  # Update with your actual file path\n",
        "\n",
        "with h5py.File(h5_path, 'r') as h5_file:\n",
        "    print(\"Keys inside the H5 file:\", list(h5_file.keys()))\n"
      ]
    },
    {
      "cell_type": "code",
      "execution_count": null,
      "metadata": {
        "colab": {
          "base_uri": "https://localhost:8080/"
        },
        "id": "0BDcLZMBiwg_",
        "outputId": "2fd5fb29-62de-469f-9d81-a40b56eaa099"
      },
      "outputs": [
        {
          "name": "stdout",
          "output_type": "stream",
          "text": [
            "Mounted at /content/drive\n"
          ]
        }
      ],
      "source": [
        "from google.colab import drive\n",
        "drive.mount('/content/drive', force_remount=True)\n"
      ]
    },
    {
      "cell_type": "code",
      "execution_count": 10,
      "metadata": {
        "colab": {
          "base_uri": "https://localhost:8080/"
        },
        "id": "fC0pEFW3kzup",
        "outputId": "a0f3da9d-0443-4761-99b7-502cf3b2f756"
      },
      "outputs": [
        {
          "output_type": "stream",
          "name": "stdout",
          "text": [
            " augmented_data        'Copy of Working_system.ipynb'   merged_dataset\n",
            " augmented_dataset_v2   filtered_dataset\t        train_images\n"
          ]
        }
      ],
      "source": [
        "!ls \"/content/drive/My Drive/Crop disease monitoring system\"\n"
      ]
    },
    {
      "cell_type": "code",
      "execution_count": null,
      "metadata": {
        "id": "yqo0MoEZk21V"
      },
      "outputs": [],
      "source": [
        "dataset_path = \"/content/drive/My Drive/Crop disease monitoring system/train_images\"\n"
      ]
    },
    {
      "cell_type": "code",
      "execution_count": null,
      "metadata": {
        "colab": {
          "base_uri": "https://localhost:8080/"
        },
        "id": "NaGDovt6k5Tg",
        "outputId": "faa6bfc2-4670-4adc-b722-c494526f1af0"
      },
      "outputs": [
        {
          "name": "stdout",
          "output_type": "stream",
          "text": [
            "✅ Dataset found at: /content/drive/My Drive/Crop disease monitoring system/train_images\n",
            "Classes: ['bacterial_leaf_streak', 'bacterial_panicle_blight', 'tungro', 'brown_spot', 'dead_heart', 'downy_mildew', 'normal', 'hispa', 'blast', 'bacterial_leaf_blight']\n"
          ]
        }
      ],
      "source": [
        "import os\n",
        "\n",
        "dataset_path = \"/content/drive/My Drive/Crop disease monitoring system/train_images\"\n",
        "\n",
        "if os.path.exists(dataset_path):\n",
        "    print(\"✅ Dataset found at:\", dataset_path)\n",
        "    print(\"Classes:\", os.listdir(dataset_path))\n",
        "else:\n",
        "    print(\"❌ Dataset not found! Double-check the path.\")\n"
      ]
    },
    {
      "cell_type": "code",
      "execution_count": null,
      "metadata": {
        "colab": {
          "base_uri": "https://localhost:8080/"
        },
        "id": "7U8DZ6h5lOQY",
        "outputId": "d09dd971-d9b9-443c-948e-aa3d7fb55ad1"
      },
      "outputs": [
        {
          "name": "stdout",
          "output_type": "stream",
          "text": [
            "✅ Merging completed successfully!\n"
          ]
        }
      ],
      "source": [
        "import shutil\n",
        "import os\n",
        "\n",
        "# Define paths\n",
        "train_images_path = \"/content/drive/My Drive/Crop disease monitoring system/train_images\"\n",
        "augmented_data_path = \"/content/drive/My Drive/Crop disease monitoring system/augmented_data\"\n",
        "\n",
        "# Merge augmented_data into train_images\n",
        "for category in os.listdir(augmented_data_path):  # Assuming categories are in subfolders\n",
        "    source_dir = os.path.join(augmented_data_path, category)\n",
        "    target_dir = os.path.join(train_images_path, category)\n",
        "\n",
        "    # Ensure target category directory exists\n",
        "    os.makedirs(target_dir, exist_ok=True)\n",
        "\n",
        "    # Move files\n",
        "    for file_name in os.listdir(source_dir):\n",
        "        src_file = os.path.join(source_dir, file_name)\n",
        "        dest_file = os.path.join(target_dir, file_name)\n",
        "\n",
        "        # Avoid overwriting\n",
        "        if not os.path.exists(dest_file):\n",
        "            shutil.move(src_file, dest_file)\n",
        "\n",
        "print(\"✅ Merging completed successfully!\")\n"
      ]
    },
    {
      "cell_type": "code",
      "execution_count": null,
      "metadata": {
        "colab": {
          "base_uri": "https://localhost:8080/"
        },
        "id": "i2iVtHdJlSIL",
        "outputId": "ae4bda55-2405-4780-8ad5-1ea594c5ff80"
      },
      "outputs": [
        {
          "name": "stdout",
          "output_type": "stream",
          "text": [
            "bacterial_leaf_streak: 530 images\n",
            "bacterial_panicle_blight: 487 images\n",
            "tungro: 1238 images\n",
            "brown_spot: 1115 images\n",
            "dead_heart: 1592 images\n",
            "downy_mildew: 770 images\n",
            "normal: 1914 images\n",
            "hispa: 1744 images\n",
            "blast: 1888 images\n",
            "bacterial_leaf_blight: 629 images\n"
          ]
        }
      ],
      "source": [
        "for category in os.listdir(train_images_path):\n",
        "    num_files = len(os.listdir(os.path.join(train_images_path, category)))\n",
        "    print(f\"{category}: {num_files} images\")\n"
      ]
    },
    {
      "cell_type": "code",
      "execution_count": null,
      "metadata": {
        "id": "2YPS4eQUnSuX"
      },
      "outputs": [],
      "source": [
        "merged_dataset_dir = \"/content/drive/MyDrive/Crop disease monitoring system/train_images\"\n"
      ]
    },
    {
      "cell_type": "code",
      "execution_count": null,
      "metadata": {
        "colab": {
          "base_uri": "https://localhost:8080/"
        },
        "id": "kAZbo8CznviS",
        "outputId": "546f93c4-a771-4614-b31c-b90b2143fc2c"
      },
      "outputs": [
        {
          "name": "stdout",
          "output_type": "stream",
          "text": [
            "Folders inside 'Crop disease monitoring system':\n",
            "['train_images', 'augmented_data', 'filtered_dataset']\n"
          ]
        }
      ],
      "source": [
        "import os\n",
        "\n",
        "base_path = \"/content/drive/My Drive/Crop disease monitoring system\"\n",
        "print(\"Folders inside 'Crop disease monitoring system':\")\n",
        "print(os.listdir(base_path))\n"
      ]
    },
    {
      "cell_type": "code",
      "execution_count": null,
      "metadata": {
        "colab": {
          "base_uri": "https://localhost:8080/"
        },
        "id": "GCP9LTqqn3ka",
        "outputId": "05f5af94-84a4-4b43-a6f4-6f6eb3a7a483"
      },
      "outputs": [
        {
          "name": "stdout",
          "output_type": "stream",
          "text": [
            "🚫 Removing class: bacterial_leaf_streak\n",
            "🚫 Removing class: bacterial_panicle_blight\n",
            "✅ Keeping class: tungro\n",
            "✅ Keeping class: brown_spot\n",
            "✅ Keeping class: dead_heart\n",
            "🚫 Removing class: downy_mildew\n",
            "✅ Keeping class: normal\n",
            "✅ Keeping class: hispa\n",
            "✅ Keeping class: blast\n",
            "🚫 Removing class: bacterial_leaf_blight\n",
            "✅ Unwanted classes removed. Final dataset saved at: /content/drive/My Drive/Crop disease monitoring system/filtered_dataset\n"
          ]
        }
      ],
      "source": [
        "import shutil\n",
        "import os\n",
        "\n",
        "# Paths\n",
        "merged_dataset_dir = \"/content/drive/My Drive/Crop disease monitoring system/train_images\"\n",
        "filtered_dataset_dir = \"/content/drive/My Drive/Crop disease monitoring system/filtered_dataset\"\n",
        "\n",
        "# Classes to remove\n",
        "remove_classes = {\"bacterial_leaf_streak\", \"bacterial_panicle_blight\", \"downy_mildew\", \"bacterial_leaf_blight\"}\n",
        "\n",
        "# Ensure the filtered dataset directory exists\n",
        "os.makedirs(filtered_dataset_dir, exist_ok=True)\n",
        "\n",
        "for class_name in os.listdir(merged_dataset_dir):\n",
        "    class_path = os.path.join(merged_dataset_dir, class_name)\n",
        "\n",
        "    if class_name in remove_classes:\n",
        "        print(f\"🚫 Removing class: {class_name}\")\n",
        "        shutil.rmtree(class_path)  # Delete the unwanted class folder\n",
        "    else:\n",
        "        print(f\"✅ Keeping class: {class_name}\")\n",
        "        dest_class_path = os.path.join(filtered_dataset_dir, class_name)\n",
        "        os.makedirs(dest_class_path, exist_ok=True)\n",
        "\n",
        "        for img_file in os.listdir(class_path):\n",
        "            src_file = os.path.join(class_path, img_file)\n",
        "            dest_file = os.path.join(dest_class_path, img_file)\n",
        "            shutil.copy2(src_file, dest_file)  # Copy remaining classes to new dataset\n",
        "\n",
        "print(\"✅ Unwanted classes removed. Final dataset saved at:\", filtered_dataset_dir)\n"
      ]
    },
    {
      "cell_type": "code",
      "execution_count": null,
      "metadata": {
        "colab": {
          "base_uri": "https://localhost:8080/"
        },
        "id": "xjCcB-FWuMrd",
        "outputId": "c766a47b-d65e-41ab-a1c4-586b2f254bbc"
      },
      "outputs": [
        {
          "name": "stdout",
          "output_type": "stream",
          "text": [
            "✅ TensorFlow is using: [PhysicalDevice(name='/physical_device:GPU:0', device_type='GPU')]\n"
          ]
        }
      ],
      "source": [
        "import tensorflow as tf\n",
        "print(\"✅ TensorFlow is using:\", tf.config.list_physical_devices('GPU'))\n"
      ]
    },
    {
      "cell_type": "code",
      "execution_count": null,
      "metadata": {
        "id": "Z8Ylz9Gev5bS"
      },
      "outputs": [],
      "source": [
        "filtered_dataset_path = \"/content/drive/MyDrive/Crop disease monitoring system/filtered_dataset\"\n"
      ]
    },
    {
      "cell_type": "code",
      "execution_count": null,
      "metadata": {
        "colab": {
          "base_uri": "https://localhost:8080/"
        },
        "id": "20ZkH2Uqwjuk",
        "outputId": "1968393c-3791-48c9-ccd1-166d8618e02d"
      },
      "outputs": [
        {
          "output_type": "stream",
          "name": "stdout",
          "text": [
            "fusermount: failed to unmount /content/drive: No such file or directory\n"
          ]
        }
      ],
      "source": [
        "!fusermount -u /content/drive\n",
        "!rm -rf /content/drive\n"
      ]
    },
    {
      "cell_type": "code",
      "execution_count": null,
      "metadata": {
        "colab": {
          "base_uri": "https://localhost:8080/"
        },
        "id": "a9xdHVWOwpgM",
        "outputId": "041e657a-35b0-4e12-cfda-fc271b148730"
      },
      "outputs": [
        {
          "output_type": "stream",
          "name": "stdout",
          "text": [
            "Mounted at /content/drive\n"
          ]
        }
      ],
      "source": [
        "from google.colab import drive\n",
        "drive.mount('/content/drive')\n"
      ]
    },
    {
      "cell_type": "code",
      "execution_count": null,
      "metadata": {
        "colab": {
          "base_uri": "https://localhost:8080/"
        },
        "id": "jvSsT6CowwcR",
        "outputId": "5fd24417-d4ab-417c-8923-ca233d384ca2"
      },
      "outputs": [
        {
          "output_type": "stream",
          "name": "stdout",
          "text": [
            "✅ filtered_dataset found!\n",
            "Classes inside filtered_dataset: ['tungro', 'brown_spot', 'dead_heart', 'normal', 'hispa', 'blast']\n"
          ]
        }
      ],
      "source": [
        "import os\n",
        "\n",
        "dataset_path = \"/content/drive/MyDrive/Crop disease monitoring system/filtered_dataset\"\n",
        "\n",
        "if os.path.exists(dataset_path):\n",
        "    print(\"✅ filtered_dataset found!\")\n",
        "    print(\"Classes inside filtered_dataset:\", os.listdir(dataset_path))\n",
        "else:\n",
        "    print(\"❌ filtered_dataset not found! Check folder name again.\")\n"
      ]
    },
    {
      "cell_type": "code",
      "execution_count": null,
      "metadata": {
        "colab": {
          "base_uri": "https://localhost:8080/"
        },
        "id": "QxUiuASyx_HZ",
        "outputId": "aa30c25c-0bd2-477b-9892-53b0c68f1baf"
      },
      "outputs": [
        {
          "output_type": "stream",
          "name": "stdout",
          "text": [
            "📸 Augmenting images for class: tungro...\n",
            "📸 Augmenting images for class: brown_spot...\n",
            "📸 Augmenting images for class: dead_heart...\n",
            "📸 Augmenting images for class: normal...\n",
            "📸 Augmenting images for class: hispa...\n",
            "📸 Augmenting images for class: blast...\n",
            "🎉 Augmentation completed successfully! 🚀\n"
          ]
        }
      ],
      "source": [
        "import os\n",
        "import shutil\n",
        "import cv2\n",
        "import numpy as np\n",
        "import random\n",
        "from tensorflow.keras.preprocessing.image import ImageDataGenerator\n",
        "\n",
        "# Paths\n",
        "filtered_dataset_path = \"/content/drive/MyDrive/Crop disease monitoring system/filtered_dataset\"\n",
        "augmented_dataset_path = \"/content/drive/MyDrive/Crop disease monitoring system/augmented_dataset_v2\"\n",
        "\n",
        "# Create the directory for augmented data if it doesn't exist\n",
        "os.makedirs(augmented_dataset_path, exist_ok=True)\n",
        "\n",
        "# Augmentation settings\n",
        "datagen = ImageDataGenerator(\n",
        "    rotation_range=30,        # Rotate images up to 30 degrees\n",
        "    width_shift_range=0.2,    # Shift width up to 20%\n",
        "    height_shift_range=0.2,   # Shift height up to 20%\n",
        "    shear_range=0.2,          # Shear transform\n",
        "    zoom_range=0.2,           # Zoom in and out\n",
        "    horizontal_flip=True,     # Flip horizontally\n",
        "    brightness_range=[0.8, 1.2],  # Adjust brightness\n",
        "    fill_mode='nearest'\n",
        ")\n",
        "\n",
        "# Apply augmentation to each class\n",
        "for class_name in os.listdir(filtered_dataset_path):\n",
        "    class_path = os.path.join(filtered_dataset_path, class_name)\n",
        "    augmented_class_path = os.path.join(augmented_dataset_path, class_name)\n",
        "    os.makedirs(augmented_class_path, exist_ok=True)\n",
        "\n",
        "    print(f\"📸 Augmenting images for class: {class_name}...\")\n",
        "\n",
        "    # Process images\n",
        "    for img_name in os.listdir(class_path):\n",
        "        img_path = os.path.join(class_path, img_name)\n",
        "        img = cv2.imread(img_path)\n",
        "        if img is None:\n",
        "            continue\n",
        "\n",
        "        img = cv2.cvtColor(img, cv2.COLOR_BGR2RGB)\n",
        "        img = np.expand_dims(img, axis=0)\n",
        "\n",
        "        # Generate and save 5 augmented images per original image\n",
        "        i = 0\n",
        "        for batch in datagen.flow(img, batch_size=4, save_to_dir=augmented_class_path,\n",
        "                                  save_prefix=\"aug\", save_format=\"jpg\"):\n",
        "            i += 1\n",
        "            if i >= 3:  # Number of augmentations per image\n",
        "                break\n",
        "\n",
        "print(\"🎉 Augmentation completed successfully! 🚀\")\n"
      ]
    },
    {
      "cell_type": "code",
      "source": [
        "import os\n",
        "import shutil\n",
        "from tqdm import tqdm\n",
        "\n",
        "# Paths\n",
        "filtered_dataset_path = \"/content/drive/MyDrive/Crop disease monitoring system/filtered_dataset\"\n",
        "augmented_dataset_path = \"/content/drive/MyDrive/Crop disease monitoring system/augmented_dataset_v2\"\n",
        "merged_dataset_path = \"/content/drive/MyDrive/Crop disease monitoring system/merged_dataset\"\n",
        "\n",
        "# Create merged dataset directory\n",
        "os.makedirs(merged_dataset_path, exist_ok=True)\n",
        "\n",
        "# Merge function\n",
        "def merge_datasets():\n",
        "    for dataset_path in [filtered_dataset_path, augmented_dataset_path]:\n",
        "        for class_name in os.listdir(dataset_path):\n",
        "            class_path = os.path.join(dataset_path, class_name)\n",
        "            merged_class_path = os.path.join(merged_dataset_path, class_name)\n",
        "            os.makedirs(merged_class_path, exist_ok=True)\n",
        "\n",
        "            # Copy images to merged dataset\n",
        "            for img_name in tqdm(os.listdir(class_path), desc=f\"Merging {class_name}\"):\n",
        "                src_path = os.path.join(class_path, img_name)\n",
        "                dest_path = os.path.join(merged_class_path, img_name)\n",
        "                shutil.copy2(src_path, dest_path)\n",
        "\n",
        "    print(\"✅ Merge completed successfully! 🚀\")\n",
        "\n",
        "# Run merge\n",
        "merge_datasets()\n"
      ],
      "metadata": {
        "colab": {
          "base_uri": "https://localhost:8080/"
        },
        "id": "YXKoxTZxF5kx",
        "outputId": "302879c1-55ca-4712-f760-d38d5b99240a"
      },
      "execution_count": null,
      "outputs": [
        {
          "output_type": "stream",
          "name": "stderr",
          "text": [
            "Merging tungro: 100%|██████████| 1238/1238 [00:24<00:00, 51.10it/s]\n",
            "Merging brown_spot: 100%|██████████| 1115/1115 [00:21<00:00, 51.09it/s]\n",
            "Merging dead_heart: 100%|██████████| 1592/1592 [00:33<00:00, 47.08it/s]\n",
            "Merging normal: 100%|██████████| 1914/1914 [00:43<00:00, 43.75it/s]\n",
            "Merging hispa: 100%|██████████| 1744/1744 [00:40<00:00, 42.89it/s]\n",
            "Merging blast: 100%|██████████| 1888/1888 [00:48<00:00, 39.20it/s]\n",
            "Merging tungro: 100%|██████████| 7310/7310 [03:47<00:00, 32.14it/s]\n",
            "Merging brown_spot: 100%|██████████| 3752/3752 [02:00<00:00, 31.13it/s]\n",
            "Merging dead_heart: 100%|██████████| 3778/3778 [01:32<00:00, 40.70it/s]\n",
            "Merging normal: 100%|██████████| 4355/4355 [01:52<00:00, 38.73it/s]\n",
            "Merging hispa: 100%|██████████| 4038/4038 [01:41<00:00, 39.65it/s]\n",
            "Merging blast: 100%|██████████| 4362/4362 [01:48<00:00, 40.31it/s]"
          ]
        },
        {
          "output_type": "stream",
          "name": "stdout",
          "text": [
            "✅ Merge completed successfully! 🚀\n"
          ]
        },
        {
          "output_type": "stream",
          "name": "stderr",
          "text": [
            "\n"
          ]
        }
      ]
    },
    {
      "cell_type": "code",
      "source": [
        "for class_name in os.listdir(merged_dataset_path):\n",
        "    num_files = len(os.listdir(os.path.join(merged_dataset_path, class_name)))\n",
        "    print(f\"{class_name}: {num_files} images after merging\")\n"
      ],
      "metadata": {
        "colab": {
          "base_uri": "https://localhost:8080/"
        },
        "id": "PWbQqlIlJ2la",
        "outputId": "553a394b-6a2c-445a-c3f1-20223b0cbaca"
      },
      "execution_count": null,
      "outputs": [
        {
          "output_type": "stream",
          "name": "stdout",
          "text": [
            "tungro: 8548 images after merging\n",
            "brown_spot: 4867 images after merging\n",
            "dead_heart: 5370 images after merging\n",
            "normal: 6269 images after merging\n",
            "hispa: 5782 images after merging\n",
            "blast: 6250 images after merging\n"
          ]
        }
      ]
    }
  ],
  "metadata": {
    "colab": {
      "provenance": [],
      "gpuType": "T4",
      "authorship_tag": "ABX9TyORwHc9yl6T6dre7rgA6+Oa",
      "include_colab_link": true
    },
    "kernelspec": {
      "display_name": "Python 3",
      "name": "python3"
    },
    "language_info": {
      "name": "python"
    },
    "accelerator": "GPU"
  },
  "nbformat": 4,
  "nbformat_minor": 0
}